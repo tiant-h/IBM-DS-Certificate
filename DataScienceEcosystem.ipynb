{
 "cells": [
  {
   "cell_type": "markdown",
   "id": "7d9f7fb7-0665-46c4-a457-9859bf7d17ae",
   "metadata": {},
   "source": [
    "# Data Science Tools and Ecosystem"
   ]
  },
  {
   "cell_type": "markdown",
   "id": "ebf37e6b-de03-40f6-9056-1e6d67eac688",
   "metadata": {},
   "source": [
    "#### In this notebook, Data Science Tools and Ecosystem are summarized."
   ]
  },
  {
   "cell_type": "markdown",
   "id": "0b9a2df6-921e-4503-bae8-5339c855a981",
   "metadata": {},
   "source": [
    "##### Some of the popular languages that Data Scientists use are: \n",
    "1. R\n",
    "2. SQL\n",
    "3. Python\n",
    "   "
   ]
  },
  {
   "cell_type": "markdown",
   "id": "39e7e2a8-7cf0-4bff-a569-ec29ce54dc2d",
   "metadata": {},
   "source": [
    "Some of the commonly used libraries used by Data Scientists include:\n",
    "1. Pandas\n",
    "2. NumPy\n",
    "3. Matplotlib\n",
    "4. Scikit-learn"
   ]
  },
  {
   "cell_type": "markdown",
   "id": "1789c5a1-bdfa-48be-8fef-9a19028a2a6e",
   "metadata": {},
   "source": [
    "| Data Science Tools |\n",
    "|--------------------|\n",
    "| Jupyter Notebook   |\n",
    "| RStudio            |\n",
    "| Apache Zeppelin    |"
   ]
  },
  {
   "cell_type": "markdown",
   "id": "b16a2ad9-956d-4d57-84d2-e6212a37388b",
   "metadata": {},
   "source": [
    "### Below are a few examples of evaluating arithmetic expressions in Python."
   ]
  },
  {
   "cell_type": "code",
   "execution_count": 1,
   "id": "1cd7e2b5-b3f4-46cc-ad47-b2b0af47e77e",
   "metadata": {},
   "outputs": [
    {
     "data": {
      "text/plain": [
       "17"
      ]
     },
     "execution_count": 1,
     "metadata": {},
     "output_type": "execute_result"
    }
   ],
   "source": [
    "# This is a simple arithmetic expression to multiply then add integers.\n",
    "result = (3*4) + 5\n",
    "result  # This should output 17\n"
   ]
  },
  {
   "cell_type": "code",
   "execution_count": 2,
   "id": "0465b028-3911-4ea6-a160-d202f81298d1",
   "metadata": {},
   "outputs": [
    {
     "data": {
      "text/plain": [
       "3.3333333333333335"
      ]
     },
     "execution_count": 2,
     "metadata": {},
     "output_type": "execute_result"
    }
   ],
   "source": [
    "# This will convert 200 minutes to hours by dividing by 60\n",
    "hours = 200 / 60\n",
    "hours  # This should output approximately 3.33\n"
   ]
  },
  {
   "cell_type": "markdown",
   "id": "f9864e95-a041-4708-8331-d994476eb84f",
   "metadata": {},
   "source": [
    "**Objectives:**\n",
    "- List popular languages for Data Science.\n",
    "- List popular libraries for Data Science.\n",
    "- Demonstrate arithmetic expression evaluation in Python.\n",
    "- Convert minutes into hours.\n"
   ]
  },
  {
   "cell_type": "markdown",
   "id": "9b31ac0d-6dc3-4c36-be97-326222c3e227",
   "metadata": {},
   "source": [
    "## Author\n",
    "Tiantian Hang \n"
   ]
  },
  {
   "cell_type": "code",
   "execution_count": null,
   "id": "24bc6497-c5d4-4bef-b894-050802a4e099",
   "metadata": {},
   "outputs": [],
   "source": []
  }
 ],
 "metadata": {
  "kernelspec": {
   "display_name": "Python 3 (ipykernel)",
   "language": "python",
   "name": "python3"
  },
  "language_info": {
   "codemirror_mode": {
    "name": "ipython",
    "version": 3
   },
   "file_extension": ".py",
   "mimetype": "text/x-python",
   "name": "python",
   "nbconvert_exporter": "python",
   "pygments_lexer": "ipython3",
   "version": "3.11.9"
  }
 },
 "nbformat": 4,
 "nbformat_minor": 5
}
